{
 "cells": [
  {
   "cell_type": "code",
   "execution_count": 2,
   "metadata": {},
   "outputs": [],
   "source": [
    "import random\n",
    "import math"
   ]
  },
  {
   "cell_type": "code",
   "execution_count": 3,
   "metadata": {},
   "outputs": [],
   "source": [
    "def calculate_list_count(input_data_list):\n",
    "    datas_total_count = 0\n",
    "    for i in input_data_list:\n",
    "        datas_total_count = datas_total_count + i\n",
    "    return datas_total_count"
   ]
  },
  {
   "cell_type": "code",
   "execution_count": 4,
   "metadata": {},
   "outputs": [],
   "source": [
    "def calculate_avarage(input_data_list):\n",
    "    list_summary = 0\n",
    "    for i in input_data_list:\n",
    "        list_summary = list_summary + i\n",
    "    return list_summary / len(input_data_list)"
   ]
  },
  {
   "cell_type": "code",
   "execution_count": 5,
   "metadata": {},
   "outputs": [],
   "source": [
    "def claculate_variance(input_data_list, list_average):\n",
    "    number = 0\n",
    "    for i in input_data_list:\n",
    "        number = number + (i - list_average)**2\n",
    "    s2 = (1 / (len(input_data_list) - 1) * number)\n",
    "    return s2, math.sqrt(s2)"
   ]
  },
  {
   "cell_type": "code",
   "execution_count": 6,
   "metadata": {},
   "outputs": [],
   "source": [
    "def calculate_median(input_data_list):\n",
    "    median = 0\n",
    "    if(len(input_data_list) % 2 == 0):\n",
    "        middle_number_index = int(len(input_data_list) / 2)\n",
    "        median = input_data_list[middle_number_index - 1] + input_data_list[middle_number_index]\n",
    "    else:\n",
    "        middle_number_index = (len(input_data_list) + 1) / 2\n",
    "        median = input_data_list[middle_number_index - 1]\n",
    "    return median"
   ]
  },
  {
   "cell_type": "code",
   "execution_count": 7,
   "metadata": {},
   "outputs": [],
   "source": [
    "def calculate_chebyshev_inequality(k, input_data_list):\n",
    "    list_lenght = len(input_data_list)\n",
    "    output = list_lenght * (1 - (1 / pow(k, 2)))\n",
    "    return output, (1 - (1 / pow(k, 2)))"
   ]
  },
  {
   "cell_type": "code",
   "execution_count": 8,
   "metadata": {},
   "outputs": [],
   "source": [
    "input_from_user = input(\"Please enter k value : \")\n",
    "k = float(input_from_user)"
   ]
  },
  {
   "cell_type": "code",
   "execution_count": 10,
   "metadata": {},
   "outputs": [
    {
     "name": "stdout",
     "output_type": "stream",
     "text": [
      "total count : 12\n",
      "average : 1.2\n",
      "variance : 4.4\n",
      "standart_deviation : 2.0976176963403033\n",
      "median : 2\n",
      "chebyshev_output : 7.5\n",
      "chebyshev_percentile : %75.0\n"
     ]
    }
   ],
   "source": [
    "my_data_raw = [5,-1,3,-2,0,1,3,0,2,1]\n",
    "my_data = sorted(my_data_raw)\n",
    "\n",
    "my_datas_total_count = calculate_list_count(my_data)\n",
    "my_datas_average = calculate_avarage(my_data)\n",
    "my_datas_variance, my_datas_standart_deviation = claculate_variance(my_data, my_datas_average)\n",
    "my_datas_median = calculate_median(my_data)\n",
    "my_datas_chebyshev_output, my_datas_chebyshev_percentile = calculate_chebyshev_inequality(k,my_data)\n",
    "\n",
    "print(f\"total count : {my_datas_total_count}\")\n",
    "print(f\"average : {my_datas_average}\")\n",
    "print(f\"variance : {my_datas_variance}\")\n",
    "print(f\"standart_deviation : {my_datas_standart_deviation}\")\n",
    "print(f\"median : {my_datas_median}\")\n",
    "print(f\"chebyshev_output : {my_datas_chebyshev_output}\")\n",
    "print(f\"chebyshev_percentile : %{my_datas_chebyshev_percentile * 100}\")"
   ]
  },
  {
   "cell_type": "code",
   "execution_count": null,
   "metadata": {},
   "outputs": [],
   "source": []
  },
  {
   "cell_type": "code",
   "execution_count": null,
   "metadata": {},
   "outputs": [],
   "source": []
  }
 ],
 "metadata": {
  "kernelspec": {
   "display_name": "Python 3",
   "language": "python",
   "name": "python3"
  },
  "language_info": {
   "codemirror_mode": {
    "name": "ipython",
    "version": 3
   },
   "file_extension": ".py",
   "mimetype": "text/x-python",
   "name": "python",
   "nbconvert_exporter": "python",
   "pygments_lexer": "ipython3",
   "version": "3.11.5"
  },
  "orig_nbformat": 4
 },
 "nbformat": 4,
 "nbformat_minor": 2
}
